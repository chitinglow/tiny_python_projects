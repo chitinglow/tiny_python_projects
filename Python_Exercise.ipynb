{
  "nbformat": 4,
  "nbformat_minor": 0,
  "metadata": {
    "colab": {
      "provenance": [],
      "authorship_tag": "ABX9TyM/OpGh7cnwnIH0++Cg87sy",
      "include_colab_link": true
    },
    "kernelspec": {
      "name": "python3",
      "display_name": "Python 3"
    },
    "language_info": {
      "name": "python"
    }
  },
  "cells": [
    {
      "cell_type": "markdown",
      "metadata": {
        "id": "view-in-github",
        "colab_type": "text"
      },
      "source": [
        "<a href=\"https://colab.research.google.com/github/chitinglow/tiny_python_projects/blob/master/Python_Exercise.ipynb\" target=\"_parent\"><img src=\"https://colab.research.google.com/assets/colab-badge.svg\" alt=\"Open In Colab\"/></a>"
      ]
    },
    {
      "cell_type": "code",
      "execution_count": 2,
      "metadata": {
        "colab": {
          "base_uri": "https://localhost:8080/"
        },
        "id": "qvP-tF0sLxO3",
        "outputId": "1381dfdd-3909-492f-d930-50b36ecec7f6"
      },
      "outputs": [
        {
          "output_type": "stream",
          "name": "stdout",
          "text": [
            "Hello, world!\n",
            "What is your name?\n",
            "Alice\n",
            "Hello, Alice\n"
          ]
        }
      ],
      "source": [
        "# Exercise 1\n",
        "\n",
        "print(\"Hello, world!\")\n",
        "print(\"What is your name?\")\n",
        "name = input()\n",
        "print(\"Hello, \" + name)"
      ]
    },
    {
      "cell_type": "code",
      "source": [],
      "metadata": {
        "id": "XL5vGccAMLCg"
      },
      "execution_count": null,
      "outputs": []
    }
  ]
}